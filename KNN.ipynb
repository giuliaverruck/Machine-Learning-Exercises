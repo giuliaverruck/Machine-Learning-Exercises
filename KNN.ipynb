 # Importar as bibliotecas necessárias
 import numpy as np
 import pandas as pd
 from sklearn.model_selection import train_test_split
 from sklearn.preprocessing import LabelEncoder, StandardScaler
 from sklearn.neighbors import KNeighborsClassifier
 from sklearn.metrics import accuracy_score, confusion_matrix, classification_report
 import seaborn as sns
 import matplotlib.pyplot as plt
 

 # Carregar o dataset
 dados = pd.read_csv('heart.csv', sep=',')
 

 # a) Remover a amostra de RestingBP=0
 dados = dados.loc[dados.RestingBP != 0]
 

 # b) Substituir os valores de Cholesterol = 0 pela mediana
 dados['Cholesterol'].replace(0, np.NaN, inplace=True)
 dados['Cholesterol'].fillna(dados['Cholesterol'].median(), inplace=True)
 

 # c) Transformar os dados (codificar as variáveis categóricas como variáveis numéricas)
 le = LabelEncoder()
 for coluna in dados.select_dtypes(include='object').columns:
  dados[coluna] = le.fit_transform(dados[coluna])
 

 # d) Dividir o dataset em dados de treino e teste (30% para teste)
 X = dados.drop('HeartDisease', axis=1)
 y = dados['HeartDisease']
 X_treino, X_teste, y_treino, y_teste = train_test_split(X, y, test_size=0.3, random_state=42)
 

 # e) Configurar, treinar e testar o modelo KNN (configurar parâmetro K)
 modelo_knn = KNeighborsClassifier(n_neighbors=7, p=1)
 modelo_knn.fit(X_treino, y_treino)
 previsoes_knn = modelo_knn.predict(X_teste)
 

 # f) Avaliar o modelo (acurácia, matriz de confusão, métricas)
 acc_score = accuracy_score(y_teste, previsoes_knn)
 conf_matrix = confusion_matrix(y_teste, previsoes_knn)
 class_report = classification_report(y_teste, previsoes_knn)
 

 print("Acurácia:", acc_score)
 print("\nMatriz de Confusão:\n", conf_matrix)
 print("\nRelatório de Classificação:\n", class_report)
