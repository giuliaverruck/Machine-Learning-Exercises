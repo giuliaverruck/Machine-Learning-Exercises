{
 "cells": [
  {
   "cell_type": "markdown",
   "metadata": {},
   "source": [
    "### Atividade aprendizagem de máquina - Método kNN ###\n",
    "\n",
    "Para o dataset a seguir fazer a exploração, pre-processamento/limpeza/tratamento\n",
    "\n",
    "a) Remover a amostra de RestingBP=0  (so tem 01 linha com valor de RestingBP=0, remover essa linnha)\n",
    "\n",
    "b) Substituir os valores de Cholestreol =0 pela mediana (tem varias linhas com valor de Cholesterol=0, manter as linhas mas substituir pelo valor da mediana)\n",
    "\n",
    "c) Transformar os dados (codificar as variáveis categóricas como variáveis numéricas)\n",
    "\n",
    "d) Dividir o dataset em dados de treino e teste (30% para teste)\n",
    "\n",
    "e) Configurar, treinar e testar o modelo KNN (configurar parâmetro K)\n",
    "\n",
    "f) Avaliar o modelo (acurácia, matriz de confusão, métricas)"
   ]
  },
  {
   "cell_type": "code",
   "execution_count": null,
   "metadata": {},
   "outputs": [],
   "source": [
    "# Importar as bibliotecas necessárias\n",
    "import numpy as np\n",
    "import pandas as pd\n",
    "from sklearn.model_selection import train_test_split\n",
    "from sklearn.preprocessing import LabelEncoder, StandardScaler\n",
    "from sklearn.neighbors import KNeighborsClassifier\n",
    "from sklearn.metrics import accuracy_score, confusion_matrix, classification_report\n",
    "import seaborn as sns\n",
    "import matplotlib.pyplot as plt\n",
    "import gdown"
   ]
  },
  {
   "cell_type": "code",
   "execution_count": null,
   "metadata": {},
   "outputs": [
    {
     "ename": "ModuleNotFoundError",
     "evalue": "No module named 'gdown'",
     "output_type": "error",
     "traceback": [
      "\u001b[0;31m---------------------------------------------------------------------------\u001b[0m",
      "\u001b[0;31mModuleNotFoundError\u001b[0m                       Traceback (most recent call last)",
      "Cell \u001b[0;32mIn[6], line 1\u001b[0m\n\u001b[0;32m----> 1\u001b[0m \u001b[38;5;28;01mimport\u001b[39;00m \u001b[38;5;21;01mgdown\u001b[39;00m\n\u001b[1;32m      2\u001b[0m file_id \u001b[38;5;241m=\u001b[39m \u001b[38;5;124m\"\u001b[39m\u001b[38;5;124m1XK3DfJtXj6cHvDN-nYCDfZxafeFM3bIH\u001b[39m\u001b[38;5;124m\"\u001b[39m\n\u001b[1;32m      3\u001b[0m output \u001b[38;5;241m=\u001b[39m \u001b[38;5;124m\"\u001b[39m\u001b[38;5;124mheart.csv\u001b[39m\u001b[38;5;124m\"\u001b[39m\n",
      "\u001b[0;31mModuleNotFoundError\u001b[0m: No module named 'gdown'"
     ]
    }
   ],
   "source": [
    "\n",
    "file_id = \"1XK3DfJtXj6cHvDN-nYCDfZxafeFM3bIH\"\n",
    "output = \"heart.csv\"\n",
    "gdown.download(f\"https://drive.google.com/uc?id={file_id}\", output, quiet=False)"
   ]
  },
  {
   "cell_type": "code",
   "execution_count": null,
   "metadata": {},
   "outputs": [],
   "source": [
    " # Carregar o dataset\n",
    "dados = pd.read_csv('heart.csv', sep=',')"
   ]
  },
  {
   "cell_type": "code",
   "execution_count": null,
   "metadata": {},
   "outputs": [],
   "source": [
    "# a) Remover a amostra de RestingBP=0\n",
    "dados = dados.loc[dados.RestingBP != 0]"
   ]
  },
  {
   "cell_type": "code",
   "execution_count": null,
   "metadata": {},
   "outputs": [],
   "source": [
    "# b) Substituir os valores de Cholesterol = 0 pela mediana\n",
    "dados['Cholesterol'].replace(0, np.NaN, inplace=True)\n",
    "dados['Cholesterol'].fillna(dados['Cholesterol'].median(), inplace=True)"
   ]
  },
  {
   "cell_type": "code",
   "execution_count": null,
   "metadata": {},
   "outputs": [],
   "source": [
    " # c) Transformar os dados (codificar as variáveis categóricas como variáveis numéricas)\n",
    "le = LabelEncoder()\n",
    "for coluna in dados.select_dtypes(include='object').columns:dados[coluna] = le.fit_transform(dados[coluna])"
   ]
  },
  {
   "cell_type": "code",
   "execution_count": null,
   "metadata": {},
   "outputs": [],
   "source": [
    " # d) Dividir o dataset em dados de treino e teste (30% para teste)\n",
    "X = dados.drop('HeartDisease', axis=1)\n",
    "y = dados['HeartDisease']\n",
    "X_treino, X_teste, y_treino, y_teste = train_test_split(X, y, test_size=0.3, random_state=42)"
   ]
  },
  {
   "cell_type": "code",
   "execution_count": null,
   "metadata": {},
   "outputs": [],
   "source": [
    "# e) Configurar, treinar e testar o modelo KNN (configurar parâmetro K)\n",
    "modelo_knn = KNeighborsClassifier(n_neighbors=7, p=1)\n",
    "modelo_knn.fit(X_treino, y_treino)\n",
    "previsoes_knn = modelo_knn.predict(X_teste)"
   ]
  },
  {
   "cell_type": "code",
   "execution_count": null,
   "metadata": {},
   "outputs": [],
   "source": [
    "# f) Avaliar o modelo (acurácia, matriz de confusão, métricas)\n",
    "acc_score = accuracy_score(y_teste, previsoes_knn)\n",
    "conf_matrix = confusion_matrix(y_teste, previsoes_knn)\n",
    "class_report = classification_report(y_teste, previsoes_knn)"
   ]
  },
  {
   "cell_type": "code",
   "execution_count": null,
   "metadata": {},
   "outputs": [],
   "source": [
    "print(\"Acurácia:\", acc_score)\n",
    "print(\"\\nMatriz de Confusão:\\n\", conf_matrix)\n",
    "print(\"\\nRelatório de Classificação:\\n\", class_report)"
   ]
  }
 ],
 "metadata": {
  "kernelspec": {
   "display_name": "Python 3",
   "language": "python",
   "name": "python3"
  },
  "language_info": {
   "codemirror_mode": {
    "name": "ipython",
    "version": 3
   },
   "file_extension": ".py",
   "mimetype": "text/x-python",
   "name": "python",
   "nbconvert_exporter": "python",
   "pygments_lexer": "ipython3",
   "version": "3.12.1"
  }
 },
 "nbformat": 4,
 "nbformat_minor": 2
}
